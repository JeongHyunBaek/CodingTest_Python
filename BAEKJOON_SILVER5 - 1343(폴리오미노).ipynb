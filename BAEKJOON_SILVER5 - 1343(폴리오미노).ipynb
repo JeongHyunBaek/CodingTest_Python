{
 "cells": [
  {
   "cell_type": "code",
   "execution_count": 28,
   "metadata": {},
   "outputs": [
    {
     "name": "stdout",
     "output_type": "stream",
     "text": [
      "XX.XXXXXXXXXX..XXXXXXXX...XXXXXX\n",
      "BB.AAAAAAAABB..AAAAAAAA...AAAABB\n"
     ]
    }
   ],
   "source": [
    "board = input()\n",
    "count = 0\n",
    "\n",
    "for i in range(len(board)):\n",
    "    if board[i] == 'X':\n",
    "        count += 1\n",
    "    elif board[i] == '.':\n",
    "        if count > 0:\n",
    "            if count % 2 == 0:\n",
    "                board = board[: i - count] + 'AAAA' * (count // 4) + 'BB' * ((count % 4) // 2) + board[i: ]\n",
    "            else :\n",
    "                board = -1\n",
    "                break\n",
    "            count = 0\n",
    "\n",
    "if count > 0:\n",
    "    if count % 2 == 0:\n",
    "        board = board[: len(board) - count] + 'AAAA' * (count // 4) + 'BB' * ((count % 4) // 2)\n",
    "    else :\n",
    "        board = -1\n",
    "print(board)"
   ]
  }
 ],
 "metadata": {
  "kernelspec": {
   "display_name": "Python 3",
   "language": "python",
   "name": "python3"
  },
  "language_info": {
   "codemirror_mode": {
    "name": "ipython",
    "version": 3
   },
   "file_extension": ".py",
   "mimetype": "text/x-python",
   "name": "python",
   "nbconvert_exporter": "python",
   "pygments_lexer": "ipython3",
   "version": "3.8.5"
  }
 },
 "nbformat": 4,
 "nbformat_minor": 4
}
