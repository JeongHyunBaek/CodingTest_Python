{
 "cells": [
  {
   "cell_type": "code",
   "execution_count": 20,
   "metadata": {},
   "outputs": [
    {
     "name": "stdout",
     "output_type": "stream",
     "text": [
      "8 8\n",
      "1 7\n",
      "3 7\n",
      "4 7\n",
      "3 4\n",
      "4 6\n",
      "3 5\n",
      "0 4\n",
      "2 7\n",
      "1\n"
     ]
    }
   ],
   "source": [
    "n, m = map(int, input().split())\n",
    "graph = [[] for _ in range(n)]\n",
    "visited = [False] * n\n",
    "result = 0\n",
    "\n",
    "for _ in range(m):\n",
    "    a, b = map(int, input().split())\n",
    "    \n",
    "    graph[a].append(b)\n",
    "    graph[b].append(a)\n",
    "    \n",
    "def dfs(v, count):\n",
    "    global result\n",
    "    \n",
    "    if count >= 4:\n",
    "        result = 1\n",
    "    \n",
    "    visited[v] = True\n",
    "    \n",
    "    for i in graph[v]:\n",
    "        if not visited[i]:\n",
    "            dfs(i, count + 1)\n",
    "            \n",
    "    visited[v] = False\n",
    "            \n",
    "for i in range(n):\n",
    "    if result == 1:\n",
    "        break\n",
    "    dfs(i, 0)\n",
    "        \n",
    "print(result)"
   ]
  }
 ],
 "metadata": {
  "kernelspec": {
   "display_name": "Python 3",
   "language": "python",
   "name": "python3"
  },
  "language_info": {
   "codemirror_mode": {
    "name": "ipython",
    "version": 3
   },
   "file_extension": ".py",
   "mimetype": "text/x-python",
   "name": "python",
   "nbconvert_exporter": "python",
   "pygments_lexer": "ipython3",
   "version": "3.8.5"
  }
 },
 "nbformat": 4,
 "nbformat_minor": 4
}
