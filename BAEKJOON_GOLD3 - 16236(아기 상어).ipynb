{
 "cells": [
  {
   "cell_type": "code",
   "execution_count": 1,
   "metadata": {},
   "outputs": [
    {
     "name": "stdout",
     "output_type": "stream",
     "text": [
      "3\n",
      "0 0 0\n",
      "0 0 0\n",
      "0 9 0\n",
      "0\n"
     ]
    }
   ],
   "source": [
    "from collections import deque\n",
    "\n",
    "n = int(input())\n",
    "graph = []\n",
    "dx = [-1, 0, 0, 1]\n",
    "dy = [0, -1, 1, 0]\n",
    "x, y = -1, -1\n",
    "count = 0\n",
    "size = 2\n",
    "result = 0\n",
    "\n",
    "for _ in range(n):\n",
    "    graph.append(list(map(int, input().split())))\n",
    "    \n",
    "for i in range(n):\n",
    "    for j in range(n):\n",
    "        if graph[i][j] == 9:\n",
    "            graph[i][j] = 0\n",
    "            x, y = i, j\n",
    "    \n",
    "def bfs(x, y, size):\n",
    "    queue = deque()\n",
    "    queue.append((x, y))\n",
    "    \n",
    "    visited = [[False] * n for _ in range(n)]\n",
    "    distance = [[0] * n for _ in range(n)]\n",
    "    number_of_cases = []\n",
    "    \n",
    "    while queue:\n",
    "        x, y = queue.popleft()\n",
    "        \n",
    "        for i in range(4):\n",
    "            nx = x + dx[i]\n",
    "            ny = y + dy[i]\n",
    "            \n",
    "            if nx < 0 or nx >= n or ny < 0 or ny >= n:\n",
    "                continue\n",
    "                \n",
    "            if graph[nx][ny] <= size and not visited[nx][ny]:\n",
    "                visited[nx][ny] = True\n",
    "                distance[nx][ny] = distance[x][y] + 1\n",
    "                queue.append((nx, ny))\n",
    "                \n",
    "                if graph[nx][ny] != 0 and graph[nx][ny] < size:\n",
    "                    number_of_cases.append((nx, ny, distance[nx][ny]))\n",
    "                    \n",
    "    number_of_cases.sort(key = lambda x : (x[2], x[0], x[1]))\n",
    "    \n",
    "    return number_of_cases\n",
    "               \n",
    "while True:\n",
    "    number_of_cases = bfs(x, y, size)\n",
    "    \n",
    "    if len(number_of_cases) == 0:\n",
    "        print(result)\n",
    "        break\n",
    "        \n",
    "    x, y, dis = number_of_cases[0]\n",
    "    \n",
    "    count += 1\n",
    "    \n",
    "    if size == count:\n",
    "        size += 1\n",
    "        count = 0\n",
    "        \n",
    "    graph[x][y] = 0\n",
    "    result += dis"
   ]
  }
 ],
 "metadata": {
  "kernelspec": {
   "display_name": "Python 3",
   "language": "python",
   "name": "python3"
  },
  "language_info": {
   "codemirror_mode": {
    "name": "ipython",
    "version": 3
   },
   "file_extension": ".py",
   "mimetype": "text/x-python",
   "name": "python",
   "nbconvert_exporter": "python",
   "pygments_lexer": "ipython3",
   "version": "3.8.5"
  }
 },
 "nbformat": 4,
 "nbformat_minor": 4
}
