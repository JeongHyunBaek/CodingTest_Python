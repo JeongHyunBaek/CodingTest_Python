{
 "cells": [
  {
   "cell_type": "code",
   "execution_count": 23,
   "metadata": {},
   "outputs": [
    {
     "name": "stdout",
     "output_type": "stream",
     "text": [
      "6 3\n",
      "1 2\n",
      "2 3\n",
      "4 5\n",
      "0\n"
     ]
    }
   ],
   "source": [
    "n, m = map(int, input().split())\n",
    "graph = [[] for _ in range(n + 1)]\n",
    "heightList = [[] for _ in range(n + 1)]\n",
    "answer = 0\n",
    "\n",
    "for _ in range(m):\n",
    "    a, b = map(int, input().split())\n",
    "    graph[a].append(b)\n",
    "\n",
    "def dfs(startNode, nextNode, visited):\n",
    "    visited[nextNode] = True\n",
    "    \n",
    "    for i in graph[nextNode]:\n",
    "        if not visited[i]:\n",
    "            heightList[startNode].append(i)\n",
    "            heightList[i].append(startNode)\n",
    "            dfs(startNode, i, visited)\n",
    "            \n",
    "for i in range(1, n + 1):\n",
    "    visited = [False] * (n + 1)\n",
    "    dfs(i, i, visited)\n",
    "        \n",
    "for i in range(1, n + 1):\n",
    "    if len(heightList[i]) == n - 1:\n",
    "        answer += 1\n",
    "        \n",
    "print(answer)"
   ]
  }
 ],
 "metadata": {
  "kernelspec": {
   "display_name": "Python 3",
   "language": "python",
   "name": "python3"
  },
  "language_info": {
   "codemirror_mode": {
    "name": "ipython",
    "version": 3
   },
   "file_extension": ".py",
   "mimetype": "text/x-python",
   "name": "python",
   "nbconvert_exporter": "python",
   "pygments_lexer": "ipython3",
   "version": "3.8.5"
  }
 },
 "nbformat": 4,
 "nbformat_minor": 4
}
