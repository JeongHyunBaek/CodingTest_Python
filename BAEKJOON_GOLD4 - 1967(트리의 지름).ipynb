{
 "cells": [
  {
   "cell_type": "code",
   "execution_count": 14,
   "metadata": {},
   "outputs": [
    {
     "name": "stdout",
     "output_type": "stream",
     "text": [
      "12\n",
      "1 2 3\n",
      "1 3 2\n",
      "2 4 5\n",
      "3 5 11\n",
      "3 6 9\n",
      "4 7 1\n",
      "4 8 7\n",
      "5 9 15\n",
      "5 10 4\n",
      "6 11 6\n",
      "6 12 10\n",
      "45\n"
     ]
    }
   ],
   "source": [
    "n = int(input())\n",
    "graph = [[] for _ in range(n + 1)]\n",
    "\n",
    "for _ in range(n - 1):\n",
    "    a, b, c = map(int, input().split())\n",
    "    graph[a].append((b, c))\n",
    "    graph[b].append((a, c))\n",
    "    \n",
    "def dfs(v, dist):\n",
    "    for ve, ed in graph[v]:\n",
    "        if distance[ve] == -1:\n",
    "            distance[ve] = dist + ed\n",
    "            dfs(ve, dist + ed)\n",
    "            \n",
    "distance = [-1] * (n + 1)\n",
    "distance[1] = 0\n",
    "dfs(1, 0)\n",
    "\n",
    "index = distance.index(max(distance))\n",
    "distance = [-1] * (n + 1)\n",
    "distance[index] = 0\n",
    "dfs(index, 0)\n",
    "\n",
    "print(max(distance))"
   ]
  }
 ],
 "metadata": {
  "kernelspec": {
   "display_name": "Python 3",
   "language": "python",
   "name": "python3"
  },
  "language_info": {
   "codemirror_mode": {
    "name": "ipython",
    "version": 3
   },
   "file_extension": ".py",
   "mimetype": "text/x-python",
   "name": "python",
   "nbconvert_exporter": "python",
   "pygments_lexer": "ipython3",
   "version": "3.8.5"
  }
 },
 "nbformat": 4,
 "nbformat_minor": 4
}
