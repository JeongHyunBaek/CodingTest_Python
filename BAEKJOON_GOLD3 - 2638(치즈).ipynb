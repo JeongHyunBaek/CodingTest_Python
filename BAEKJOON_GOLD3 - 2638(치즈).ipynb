{
 "cells": [
  {
   "cell_type": "code",
   "execution_count": 9,
   "metadata": {},
   "outputs": [
    {
     "name": "stdout",
     "output_type": "stream",
     "text": [
      "8 9\n",
      "0 0 0 0 0 0 0 0 0\n",
      "0 0 0 1 1 0 0 0 0\n",
      "0 0 0 1 1 0 1 1 0\n",
      "0 0 1 1 1 1 1 1 0\n",
      "0 0 1 1 1 1 1 0 0\n",
      "0 0 1 1 0 1 1 0 0\n",
      "0 0 0 0 0 0 0 0 0\n",
      "0 0 0 0 0 0 0 0 0\n",
      "4\n"
     ]
    }
   ],
   "source": [
    "n, m = map(int, input().split())\n",
    "graph = []\n",
    "time = 0\n",
    "dx = [-1, 1, 0, 0]\n",
    "dy = [0, 0, -1, 1]\n",
    "\n",
    "for i in range(n):\n",
    "    graph.append(list(map(int, input().split())))\n",
    "\n",
    "def dfs(x, y):\n",
    "    visited[x][y] = True\n",
    "    graph[x][y] = 2\n",
    "\n",
    "    for i in range(4):\n",
    "        nx = x + dx[i]\n",
    "        ny = y + dy[i]\n",
    "            \n",
    "        if 0 <= nx < n and 0 <= ny < m and not visited[nx][ny] and (graph[nx][ny] == 0 or graph[nx][ny] == 2):\n",
    "            graph[nx][ny] = 2\n",
    "            dfs(nx, ny)\n",
    "                \n",
    "def MeltCheese(x, y):\n",
    "    cnt = 0\n",
    "    \n",
    "    for i in range(4):\n",
    "        nx = x + dx[i]\n",
    "        ny = y + dy[i]\n",
    "                   \n",
    "        if 0 <= nx < n and 0 <= ny < m and graph[nx][ny] == 2:\n",
    "            cnt += 1\n",
    "                        \n",
    "        if cnt >= 2:\n",
    "            melt.add((x, y))\n",
    "            break\n",
    "                        \n",
    "def SearchCheese():\n",
    "    cheese = 0\n",
    "    \n",
    "    for i in range(n):\n",
    "        cheese += sum(graph[i])\n",
    "        \n",
    "    return cheese\n",
    "\n",
    "while True:\n",
    "    visited = [[False] * m for _ in range(n)]\n",
    "    melt = set()\n",
    "    \n",
    "    dfs(0, 0)\n",
    "    \n",
    "    for i in range(n):\n",
    "        for j in range(m):\n",
    "            if graph[i][j] == 1:\n",
    "                MeltCheese(i, j)\n",
    "    \n",
    "    for x, y in melt:\n",
    "        graph[x][y] = 0\n",
    "    \n",
    "    if SearchCheese() == 2 * n * m:\n",
    "        print(time)\n",
    "        break\n",
    "    time += 1"
   ]
  }
 ],
 "metadata": {
  "kernelspec": {
   "display_name": "Python 3",
   "language": "python",
   "name": "python3"
  },
  "language_info": {
   "codemirror_mode": {
    "name": "ipython",
    "version": 3
   },
   "file_extension": ".py",
   "mimetype": "text/x-python",
   "name": "python",
   "nbconvert_exporter": "python",
   "pygments_lexer": "ipython3",
   "version": "3.8.5"
  }
 },
 "nbformat": 4,
 "nbformat_minor": 4
}
