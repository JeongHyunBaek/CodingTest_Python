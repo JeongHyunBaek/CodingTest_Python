{
 "cells": [
  {
   "cell_type": "markdown",
   "metadata": {},
   "source": [
    "# 명령 프롬프트"
   ]
  },
  {
   "cell_type": "code",
   "execution_count": 3,
   "metadata": {
    "scrolled": true
   },
   "outputs": [
    {
     "name": "stdout",
     "output_type": "stream",
     "text": [
      "3\n",
      "config.sys\n",
      "config.inf\n",
      "configures\n",
      "config????\n"
     ]
    }
   ],
   "source": [
    "n = int(input())\n",
    "prompt = []\n",
    "\n",
    "for i in range(n):\n",
    "    prompt.append(input())\n",
    "\n",
    "result = list(prompt[0])\n",
    "    \n",
    "for i in range(n):\n",
    "    for j in range(len(result)):\n",
    "        if result[j] != prompt[i][j]:\n",
    "            result[j] = '?'\n",
    "\n",
    "print(''.join(result))"
   ]
  },
  {
   "cell_type": "markdown",
   "metadata": {},
   "source": [
    "# 더하기 사이클"
   ]
  },
  {
   "cell_type": "code",
   "execution_count": 2,
   "metadata": {},
   "outputs": [
    {
     "name": "stdout",
     "output_type": "stream",
     "text": [
      "55\n",
      "3\n"
     ]
    }
   ],
   "source": [
    "n = input()\n",
    "pre = n\n",
    "count = 0\n",
    "\n",
    "while True:\n",
    "    if int(pre) < 10:\n",
    "        pre = pre.zfill(2)\n",
    "\n",
    "    post = str(int(pre[0]) + int(pre[1]))\n",
    "    \n",
    "    result = pre[-1] + post[-1]\n",
    "    \n",
    "    if len(result) == 2 and result[0] == '0':\n",
    "        result = result[-1]\n",
    "    \n",
    "    count += 1\n",
    "    \n",
    "    if n == result:\n",
    "        break\n",
    "    pre = result\n",
    "\n",
    "print(count)"
   ]
  },
  {
   "cell_type": "markdown",
   "metadata": {},
   "source": [
    "# 적어도 대부분의 배수"
   ]
  },
  {
   "cell_type": "code",
   "execution_count": 3,
   "metadata": {},
   "outputs": [
    {
     "name": "stdout",
     "output_type": "stream",
     "text": [
      "30 42 70 35 90\n",
      "210\n"
     ]
    }
   ],
   "source": [
    "n = list(map(int, input().split()))\n",
    "\n",
    "n.sort()\n",
    "\n",
    "i = n[0]\n",
    "\n",
    "while True:\n",
    "    count = 0\n",
    "    \n",
    "    if i % n[0] == 0:\n",
    "        count += 1\n",
    "    if i % n[1] == 0:\n",
    "        count += 1\n",
    "    if i % n[2] == 0:\n",
    "        count += 1\n",
    "    if i % n[3] == 0:\n",
    "        count += 1\n",
    "    if i % n[4] == 0:\n",
    "        count += 1\n",
    "        \n",
    "    if count >= 3:\n",
    "        break\n",
    "    i += 1\n",
    "\n",
    "print(i)"
   ]
  }
 ],
 "metadata": {
  "kernelspec": {
   "display_name": "Python 3",
   "language": "python",
   "name": "python3"
  },
  "language_info": {
   "codemirror_mode": {
    "name": "ipython",
    "version": 3
   },
   "file_extension": ".py",
   "mimetype": "text/x-python",
   "name": "python",
   "nbconvert_exporter": "python",
   "pygments_lexer": "ipython3",
   "version": "3.8.5"
  }
 },
 "nbformat": 4,
 "nbformat_minor": 4
}
