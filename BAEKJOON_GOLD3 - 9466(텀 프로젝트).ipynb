{
 "cells": [
  {
   "cell_type": "code",
   "execution_count": null,
   "metadata": {},
   "outputs": [
    {
     "name": "stdout",
     "output_type": "stream",
     "text": [
      "2\n",
      "7\n",
      "3 1 3 7 3 4 6\n",
      "[3, 4, 7, 6]\n",
      "3\n"
     ]
    }
   ],
   "source": [
    "t = int(input())\n",
    "vote = []\n",
    "\n",
    "def dfs(v, d):\n",
    "    global result\n",
    "    visited[v] = True\n",
    "    cycle.append(v)\n",
    "    \n",
    "    if not visited[vote[v]]:\n",
    "        dfs(vote[v], d)\n",
    "    else:\n",
    "        if vote[v] in cycle:\n",
    "            result += cycle[cycle.index(vote[v]):]\n",
    "        return\n",
    "            \n",
    "for _ in range(t):\n",
    "    n = int(input())\n",
    "    \n",
    "    vote = list(map(int, input().split()))\n",
    "    vote.insert(0, [])\n",
    "    \n",
    "    visited = [False] * (len(vote) + 1)\n",
    "    result = []\n",
    "    \n",
    "    for i in range(1, len(vote)):\n",
    "        if not visited[i]:\n",
    "            cycle = []\n",
    "            dfs(i, i)\n",
    "    print(result)\n",
    "    print(n - len(result))"
   ]
  }
 ],
 "metadata": {
  "kernelspec": {
   "display_name": "Python 3",
   "language": "python",
   "name": "python3"
  },
  "language_info": {
   "codemirror_mode": {
    "name": "ipython",
    "version": 3
   },
   "file_extension": ".py",
   "mimetype": "text/x-python",
   "name": "python",
   "nbconvert_exporter": "python",
   "pygments_lexer": "ipython3",
   "version": "3.8.5"
  }
 },
 "nbformat": 4,
 "nbformat_minor": 4
}
