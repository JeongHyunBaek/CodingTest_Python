{
 "cells": [
  {
   "cell_type": "code",
   "execution_count": 5,
   "metadata": {},
   "outputs": [
    {
     "name": "stdout",
     "output_type": "stream",
     "text": [
      "3 3\n",
      "D.*\n",
      "...\n",
      ".S.\n",
      "3\n"
     ]
    }
   ],
   "source": [
    "from collections import deque\n",
    "\n",
    "r, c = map(int, input().split())\n",
    "graph = []\n",
    "distance = [[0] * c for _ in range(r)]\n",
    "bx, by = 0, 0\n",
    "dx = [-1, 1, 0, 0]\n",
    "dy = [0, 0, -1, 1]\n",
    "\n",
    "for _ in range(r):\n",
    "    graph.append(list(input().strip()))\n",
    "    \n",
    "queue = deque()\n",
    "\n",
    "for i in range(r):\n",
    "    for j in range(c):\n",
    "        if graph[i][j] == 'S':\n",
    "            queue.append((i, j))\n",
    "            \n",
    "        if graph[i][j] == 'D':\n",
    "            bx, by = i, j\n",
    "            \n",
    "for i in range(r):\n",
    "    for j in range(c):\n",
    "        if graph[i][j] == '*':\n",
    "            queue.append((i, j))\n",
    "    \n",
    "def bfs():    \n",
    "    while queue:\n",
    "        x, y = queue.popleft()\n",
    "        \n",
    "        if graph[bx][by] == 'S':\n",
    "            return distance[bx][by]\n",
    "        \n",
    "        for i in range(4):\n",
    "            nx = x + dx[i]\n",
    "            ny = y + dy[i]\n",
    "            \n",
    "            if 0 <= nx < r and 0 <= ny < c:\n",
    "                if graph[x][y] == 'S' and (graph[nx][ny] == '.' or graph[nx][ny] == 'D'):\n",
    "                    graph[nx][ny] = 'S'\n",
    "                    distance[nx][ny] = distance[x][y] + 1\n",
    "                    queue.append((nx, ny))\n",
    "                    \n",
    "                if graph[x][y] == '*' and (graph[nx][ny] == '.' or graph[nx][ny] == 'S'):\n",
    "                    graph[nx][ny] = '*'\n",
    "                    queue.append((nx, ny))\n",
    "                    \n",
    "    return 'KAKTUS'\n",
    "                \n",
    "print(bfs())"
   ]
  }
 ],
 "metadata": {
  "kernelspec": {
   "display_name": "Python 3",
   "language": "python",
   "name": "python3"
  },
  "language_info": {
   "codemirror_mode": {
    "name": "ipython",
    "version": 3
   },
   "file_extension": ".py",
   "mimetype": "text/x-python",
   "name": "python",
   "nbconvert_exporter": "python",
   "pygments_lexer": "ipython3",
   "version": "3.8.5"
  }
 },
 "nbformat": 4,
 "nbformat_minor": 4
}
