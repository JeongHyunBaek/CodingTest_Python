{
 "cells": [
  {
   "cell_type": "code",
   "execution_count": 6,
   "metadata": {},
   "outputs": [
    {
     "name": "stdout",
     "output_type": "stream",
     "text": [
      "10 4\n",
      "4177252841\n",
      "775841\n"
     ]
    }
   ],
   "source": [
    "n, k = map(int, input().split())\n",
    "data = input()\n",
    "stack = []\n",
    "\n",
    "for d in data:\n",
    "    while stack and stack[-1] < d and k > 0:\n",
    "        stack.pop()\n",
    "        k -= 1\n",
    "    stack.append(d)\n",
    "    \n",
    "if k > 0:\n",
    "    print(''.join(stack[:-1]))\n",
    "else:\n",
    "    print(''.join(stack))"
   ]
  }
 ],
 "metadata": {
  "kernelspec": {
   "display_name": "Python 3",
   "language": "python",
   "name": "python3"
  },
  "language_info": {
   "codemirror_mode": {
    "name": "ipython",
    "version": 3
   },
   "file_extension": ".py",
   "mimetype": "text/x-python",
   "name": "python",
   "nbconvert_exporter": "python",
   "pygments_lexer": "ipython3",
   "version": "3.8.5"
  }
 },
 "nbformat": 4,
 "nbformat_minor": 4
}
