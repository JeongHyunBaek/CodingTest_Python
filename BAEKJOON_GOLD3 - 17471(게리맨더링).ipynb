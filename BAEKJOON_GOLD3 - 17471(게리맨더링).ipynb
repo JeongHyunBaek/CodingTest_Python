{
 "cells": [
  {
   "cell_type": "code",
   "execution_count": 48,
   "metadata": {},
   "outputs": [
    {
     "name": "stdout",
     "output_type": "stream",
     "text": [
      "6\n",
      "2 3 4 5 6 7\n",
      "2 2 3\n",
      "2 1 3\n",
      "2 1 2\n",
      "2 5 6\n",
      "2 4 6\n",
      "2 4 5\n",
      "9\n"
     ]
    }
   ],
   "source": [
    "from itertools import combinations\n",
    "\n",
    "n = int(input())\n",
    "population = list(map(int, input().split()))\n",
    "graph = [[] for _ in range(n + 1)]\n",
    "v = [i for i in range(1, n + 1)]\n",
    "minValue = int(1e9)\n",
    "\n",
    "for i in range(1, n + 1):\n",
    "    adj = list(map(int, input().split()))\n",
    "    \n",
    "    for j in range(1, len(adj)):\n",
    "        graph[i].append(adj[j])\n",
    "            \n",
    "def dfs(v, g, visited):\n",
    "    visited[v] = True\n",
    "    \n",
    "    for i in graph[v]:\n",
    "        if i in g and not visited[i]:\n",
    "            dfs(i, g, visited)\n",
    "            \n",
    "    for gg in g:\n",
    "        if not visited[gg]:\n",
    "            return False\n",
    "    return True\n",
    "            \n",
    "for i in range(1, n // 2 + 1):\n",
    "    for g1 in combinations(v, i):\n",
    "        g2 = [j for j in v if j not in g1]\n",
    "        \n",
    "        visited1 = [False] * (n + 1)\n",
    "        visited2 = [False] * (n + 1)\n",
    "        \n",
    "        if dfs(g1[0], g1, visited1) and dfs(g2[0], g2, visited2):\n",
    "            sumG1 = sum([population[g - 1] for g in g1])\n",
    "            sumG2 = sum([population[g - 1] for g in g2])\n",
    "            minValue = min(minValue, abs(sumG1 - sumG2))\n",
    "    \n",
    "if minValue == int(1e9):\n",
    "    print(-1)\n",
    "else:\n",
    "    print(minValue)"
   ]
  }
 ],
 "metadata": {
  "kernelspec": {
   "display_name": "Python 3",
   "language": "python",
   "name": "python3"
  },
  "language_info": {
   "codemirror_mode": {
    "name": "ipython",
    "version": 3
   },
   "file_extension": ".py",
   "mimetype": "text/x-python",
   "name": "python",
   "nbconvert_exporter": "python",
   "pygments_lexer": "ipython3",
   "version": "3.8.5"
  }
 },
 "nbformat": 4,
 "nbformat_minor": 4
}
