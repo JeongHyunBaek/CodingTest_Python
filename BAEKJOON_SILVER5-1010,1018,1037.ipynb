{
 "cells": [
  {
   "cell_type": "markdown",
   "metadata": {},
   "source": [
    "# 다리 놓기"
   ]
  },
  {
   "cell_type": "code",
   "execution_count": 3,
   "metadata": {},
   "outputs": [
    {
     "name": "stdout",
     "output_type": "stream",
     "text": [
      "3\n",
      "2 2\n",
      "1 5\n",
      "13 29\n",
      "1\n",
      "5\n",
      "67863915\n"
     ]
    }
   ],
   "source": [
    "t = int(input())\n",
    "bridge = [[0, 0] for i in range(t)]\n",
    "result = [0 for i in range(t)]\n",
    "\n",
    "for i in range(t):\n",
    "    bridge[i] = list(map(int, input().split()))\n",
    "\n",
    "for i in range(t):\n",
    "    n = r = nr = 1\n",
    "    \n",
    "    for j in range(1, bridge[i][1] + 1):\n",
    "        n *= j\n",
    "    \n",
    "    for j in range(1, bridge[i][0] + 1):\n",
    "        r *= j\n",
    "        \n",
    "    for j in range(1, bridge[i][1] - bridge[i][0] + 1):\n",
    "        nr *= j\n",
    "        \n",
    "    result[i] = n // (r * nr)\n",
    "            \n",
    "for i in range(t):\n",
    "    print(result[i])"
   ]
  },
  {
   "cell_type": "markdown",
   "metadata": {},
   "source": [
    "# 체스판 다시 칠하기"
   ]
  },
  {
   "cell_type": "code",
   "execution_count": 1,
   "metadata": {},
   "outputs": [
    {
     "name": "stdout",
     "output_type": "stream",
     "text": [
      "10 13\n",
      "BBBBBBBBWBWBW\n",
      "BBBBBBBBBWBWB\n",
      "BBBBBBBBWBWBW\n",
      "BBBBBBBBBWBWB\n",
      "BBBBBBBBWBWBW\n",
      "BBBBBBBBBWBWB\n",
      "BBBBBBBBWBWBW\n",
      "BBBBBBBBBWBWB\n",
      "WWWWWWWWWWBWB\n",
      "WWWWWWWWWWBWB\n",
      "12\n"
     ]
    }
   ],
   "source": [
    "n, m = map(int, input().split())\n",
    "result = 64\n",
    "count = [0, 0]\n",
    "chess = []\n",
    "chess1 = [\"WBWBWBWB\", \n",
    "          \"BWBWBWBW\", \n",
    "          \"WBWBWBWB\", \n",
    "          \"BWBWBWBW\", \n",
    "          \"WBWBWBWB\", \n",
    "          \"BWBWBWBW\", \n",
    "          \"WBWBWBWB\", \n",
    "          \"BWBWBWBW\"]\n",
    "\n",
    "chess2 = [\"BWBWBWBW\", \n",
    "          \"WBWBWBWB\", \n",
    "          \"BWBWBWBW\", \n",
    "          \"WBWBWBWB\", \n",
    "          \"BWBWBWBW\", \n",
    "          \"WBWBWBWB\", \n",
    "          \"BWBWBWBW\", \n",
    "          \"WBWBWBWB\"]\n",
    "\n",
    "for i in range(n):\n",
    "    chess.append(list(map(str, input())))\n",
    "    \n",
    "for i in range(n - 7):\n",
    "    for j in range(m - 7):\n",
    "        for k in range(8):\n",
    "            for l in range(8):\n",
    "                if chess1[k][l] != chess[i + k][j + l]:\n",
    "                    count[0] += 1\n",
    "                if chess2[k][l] != chess[i + k][j + l]:\n",
    "                    count[1] += 1\n",
    "                \n",
    "        if count[0] > count[1]:\n",
    "            if result > count[1]:\n",
    "                result = count[1]\n",
    "        else:\n",
    "            if result > count[0]:\n",
    "                result = count[0]\n",
    "        count[0] = count[1] = 0\n",
    "\n",
    "print(result)"
   ]
  },
  {
   "cell_type": "markdown",
   "metadata": {},
   "source": [
    "# 약수"
   ]
  },
  {
   "cell_type": "code",
   "execution_count": 26,
   "metadata": {},
   "outputs": [
    {
     "name": "stdout",
     "output_type": "stream",
     "text": [
      "2\n",
      "4 2\n",
      "8\n"
     ]
    }
   ],
   "source": [
    "n = int(input())\n",
    "array = list(map(int, input().split()))\n",
    "\n",
    "array.sort()\n",
    "result = array[0] * array[n - 1]\n",
    "        \n",
    "print(result)"
   ]
  }
 ],
 "metadata": {
  "kernelspec": {
   "display_name": "Python 3",
   "language": "python",
   "name": "python3"
  },
  "language_info": {
   "codemirror_mode": {
    "name": "ipython",
    "version": 3
   },
   "file_extension": ".py",
   "mimetype": "text/x-python",
   "name": "python",
   "nbconvert_exporter": "python",
   "pygments_lexer": "ipython3",
   "version": "3.8.5"
  }
 },
 "nbformat": 4,
 "nbformat_minor": 4
}
