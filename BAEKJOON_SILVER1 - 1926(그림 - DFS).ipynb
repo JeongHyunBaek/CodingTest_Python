{
 "cells": [
  {
   "cell_type": "code",
   "execution_count": 11,
   "metadata": {},
   "outputs": [
    {
     "name": "stdout",
     "output_type": "stream",
     "text": [
      "6 5\n",
      "1 1 0 1 1\n",
      "0 1 1 0 0\n",
      "0 0 0 0 0\n",
      "1 0 1 1 1\n",
      "0 0 1 1 1\n",
      "0 0 1 1 1\n",
      "4\n",
      "9\n"
     ]
    }
   ],
   "source": [
    "from collections import deque\n",
    "\n",
    "n, m = map(int, input().split())\n",
    "graph = []\n",
    "count = 0\n",
    "maxArea = 0\n",
    "\n",
    "for _ in range(n):\n",
    "    graph.append(list(map(int, input().split())))\n",
    "    \n",
    "def dfs(x, y):\n",
    "    area = 0\n",
    "    \n",
    "    if 0 <= x < n and 0 <= y < m:\n",
    "        if graph[x][y] == 1:\n",
    "            graph[x][y] = 0\n",
    "            area += 1\n",
    "\n",
    "            area += dfs(x - 1, y)\n",
    "            area += dfs(x + 1, y)\n",
    "            area += dfs(x, y - 1)\n",
    "            area += dfs(x, y + 1)\n",
    "            \n",
    "    return area\n",
    "                    \n",
    "for i in range(n):\n",
    "    for j in range(m):        \n",
    "        if graph[i][j] == 1:\n",
    "            maxArea = max(maxArea, dfs(i, j))\n",
    "            count += 1\n",
    "            \n",
    "print(count)\n",
    "print(maxArea)"
   ]
  }
 ],
 "metadata": {
  "kernelspec": {
   "display_name": "Python 3",
   "language": "python",
   "name": "python3"
  },
  "language_info": {
   "codemirror_mode": {
    "name": "ipython",
    "version": 3
   },
   "file_extension": ".py",
   "mimetype": "text/x-python",
   "name": "python",
   "nbconvert_exporter": "python",
   "pygments_lexer": "ipython3",
   "version": "3.8.5"
  }
 },
 "nbformat": 4,
 "nbformat_minor": 4
}
