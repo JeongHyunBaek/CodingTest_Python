{
 "cells": [
  {
   "cell_type": "code",
   "execution_count": 11,
   "metadata": {},
   "outputs": [
    {
     "name": "stdout",
     "output_type": "stream",
     "text": [
      "5 17\n",
      "4\n",
      "2\n"
     ]
    }
   ],
   "source": [
    "from collections import deque\n",
    "\n",
    "n, k = map(int, input().split())\n",
    "result = 0\n",
    "dp = [0] * 100001\n",
    "\n",
    "def bfs():\n",
    "    global result\n",
    "    queue = deque()\n",
    "    queue.append(n)\n",
    "    \n",
    "    while queue:\n",
    "        q = queue.popleft()\n",
    "        \n",
    "        if q == k:\n",
    "            result += 1\n",
    "            continue\n",
    "            \n",
    "        for i in (q - 1, q + 1, q * 2):\n",
    "            if 0 <= i <= 100000 and (dp[i] == 0 or dp[i] - 1 == dp[q]):\n",
    "                queue.append(i)\n",
    "                dp[i] = dp[q] + 1\n",
    "                \n",
    "bfs()\n",
    "print(dp[k])\n",
    "print(result)"
   ]
  }
 ],
 "metadata": {
  "kernelspec": {
   "display_name": "Python 3",
   "language": "python",
   "name": "python3"
  },
  "language_info": {
   "codemirror_mode": {
    "name": "ipython",
    "version": 3
   },
   "file_extension": ".py",
   "mimetype": "text/x-python",
   "name": "python",
   "nbconvert_exporter": "python",
   "pygments_lexer": "ipython3",
   "version": "3.8.5"
  }
 },
 "nbformat": 4,
 "nbformat_minor": 4
}
