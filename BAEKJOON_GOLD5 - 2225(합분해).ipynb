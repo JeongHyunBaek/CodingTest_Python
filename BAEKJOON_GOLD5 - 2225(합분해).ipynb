{
 "cells": [
  {
   "cell_type": "code",
   "execution_count": 2,
   "metadata": {},
   "outputs": [
    {
     "name": "stdout",
     "output_type": "stream",
     "text": [
      "6 4\n",
      "84\n"
     ]
    }
   ],
   "source": [
    "n, k = map(int, input().split())\n",
    "dp = [[0] * (k + 1) for _ in range(n + 1)]\n",
    "dp[0][0] = 1\n",
    "\n",
    "for i in range(n + 1):\n",
    "    for j in range(1, k + 1):\n",
    "        dp[i][j] = dp[i - 1][j] + dp[i][j - 1]\n",
    "        \n",
    "print(dp[n][k] % 1000000000)"
   ]
  }
 ],
 "metadata": {
  "kernelspec": {
   "display_name": "Python 3",
   "language": "python",
   "name": "python3"
  },
  "language_info": {
   "codemirror_mode": {
    "name": "ipython",
    "version": 3
   },
   "file_extension": ".py",
   "mimetype": "text/x-python",
   "name": "python",
   "nbconvert_exporter": "python",
   "pygments_lexer": "ipython3",
   "version": "3.8.5"
  }
 },
 "nbformat": 4,
 "nbformat_minor": 4
}
