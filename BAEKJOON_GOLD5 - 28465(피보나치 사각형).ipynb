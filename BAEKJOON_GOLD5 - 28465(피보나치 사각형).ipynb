{
 "cells": [
  {
   "cell_type": "code",
   "execution_count": 99,
   "metadata": {},
   "outputs": [
    {
     "name": "stdout",
     "output_type": "stream",
     "text": [
      "5 8\n",
      "4 3\n",
      "5\n"
     ]
    }
   ],
   "source": [
    "a, b = map(int, input().split())\n",
    "x, y = map(int, input().split())\n",
    "dp = [0] * 45\n",
    "dp[1] = 1\n",
    "dp[2] = 1\n",
    "maxFibo = max(a, b)\n",
    "index = 1\n",
    "\n",
    "if maxFibo > 1:\n",
    "    for i in range(3, 45):\n",
    "        dp[i] = dp[i - 1] + dp[i - 2]\n",
    "\n",
    "        if dp[i] == maxFibo:\n",
    "            index = i - 1\n",
    "            break\n",
    "        \n",
    "def fiboSquare(a1, b1, a2, b2, x, y):\n",
    "    global index\n",
    "    index -= 1\n",
    "    \n",
    "    if a2 <= x < a2 + dp[index] and a1 <= y < b1:\n",
    "        fiboSquare(a2, a2 + dp[index], a1, b1, y, x)\n",
    "    \n",
    "    if b2 - dp[index] <= x < b2 and a1 <= y < b1:\n",
    "        fiboSquare(b2 - dp[index], b2, a1, b1, y, x)\n",
    "    \n",
    "    return\n",
    "\n",
    "if a > b:\n",
    "    fiboSquare(0, b, 0, a, x, y)\n",
    "else:\n",
    "    fiboSquare(0, a, 0, b, y, x)\n",
    "    \n",
    "print(index + 1)"
   ]
  }
 ],
 "metadata": {
  "kernelspec": {
   "display_name": "Python 3",
   "language": "python",
   "name": "python3"
  },
  "language_info": {
   "codemirror_mode": {
    "name": "ipython",
    "version": 3
   },
   "file_extension": ".py",
   "mimetype": "text/x-python",
   "name": "python",
   "nbconvert_exporter": "python",
   "pygments_lexer": "ipython3",
   "version": "3.8.5"
  }
 },
 "nbformat": 4,
 "nbformat_minor": 4
}
