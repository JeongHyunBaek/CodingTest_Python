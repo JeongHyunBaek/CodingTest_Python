{
 "cells": [
  {
   "cell_type": "code",
   "execution_count": 2,
   "metadata": {},
   "outputs": [
    {
     "name": "stdout",
     "output_type": "stream",
     "text": [
      "6 5\n",
      "1 1 0 1 1\n",
      "0 1 1 0 0\n",
      "0 0 0 0 0\n",
      "1 0 1 1 1\n",
      "0 0 1 1 1\n",
      "0 0 1 1 1\n",
      "4\n",
      "8\n"
     ]
    }
   ],
   "source": [
    "from collections import deque\n",
    "\n",
    "n, m = map(int, input().split())\n",
    "graph = []\n",
    "count = 0\n",
    "maxArea = 0\n",
    "\n",
    "for _ in range(n):\n",
    "    graph.append(list(map(int, input().split())))\n",
    "    \n",
    "dx = [-1, 1, 0, 0]\n",
    "dy = [0, 0, -1, 1]\n",
    "    \n",
    "def bfs(x, y):\n",
    "    queue = deque()\n",
    "    queue.append((x, y))\n",
    "    \n",
    "    graph[x][y] = 0\n",
    "    \n",
    "    area = 1\n",
    "    \n",
    "    while queue:\n",
    "        x, y = queue.popleft()\n",
    "        \n",
    "        for i in range(4):\n",
    "            nx = x + dx[i]\n",
    "            ny = y + dy[i]\n",
    "\n",
    "            if 0 <= nx < n and 0 <= ny < m:\n",
    "                if graph[nx][ny] == 1:\n",
    "                    graph[nx][ny] = 0\n",
    "                    queue.append((nx, ny))\n",
    "                    area += 1\n",
    "                    \n",
    "    return area\n",
    "                    \n",
    "for i in range(n):\n",
    "    for j in range(m):\n",
    "        if graph[i][j] == 1:\n",
    "            maxArea = max(bfs(i, j), maxArea)\n",
    "            count += 1\n",
    "            \n",
    "print(count)\n",
    "print(maxArea)"
   ]
  }
 ],
 "metadata": {
  "kernelspec": {
   "display_name": "Python 3",
   "language": "python",
   "name": "python3"
  },
  "language_info": {
   "codemirror_mode": {
    "name": "ipython",
    "version": 3
   },
   "file_extension": ".py",
   "mimetype": "text/x-python",
   "name": "python",
   "nbconvert_exporter": "python",
   "pygments_lexer": "ipython3",
   "version": "3.8.5"
  }
 },
 "nbformat": 4,
 "nbformat_minor": 4
}
