{
 "cells": [
  {
   "cell_type": "code",
   "execution_count": 53,
   "metadata": {},
   "outputs": [
    {
     "name": "stdout",
     "output_type": "stream",
     "text": [
      "5 7\n",
      "WLLWWWL\n",
      "LLLWLLL\n",
      "LWLWLWW\n",
      "LWLWLLL\n",
      "WLLWLWW\n",
      "8\n"
     ]
    }
   ],
   "source": [
    "from collections import deque\n",
    "import sys\n",
    "sys.setrecursionlimit(10 ** 6)\n",
    "\n",
    "n, m = map(int, input().split())\n",
    "graph = []\n",
    "maxDistance = 0\n",
    "\n",
    "for _ in range(n):\n",
    "    graph.append(list(input().rstrip()))\n",
    "    \n",
    "dx = [-1, 1, 0, 0]\n",
    "dy = [0, 0, -1, 1]\n",
    "    \n",
    "def bfs(x, y):\n",
    "    queue = deque()\n",
    "    queue.append((x, y))\n",
    "    visited[x][y] = True\n",
    "    \n",
    "    while queue:\n",
    "        x, y = queue.popleft()\n",
    "        \n",
    "        for i in range(4):\n",
    "            nx = x + dx[i]\n",
    "            ny = y + dy[i]\n",
    "            \n",
    "            if 0 <= nx < n and 0 <= ny < m and not visited[nx][ny] and tIsland[nx][ny] == 1:\n",
    "                visited[nx][ny] = True\n",
    "                tIsland[nx][ny] = tIsland[x][y] + 1\n",
    "                queue.append((nx, ny))\n",
    "                \n",
    "def makeTIsland():             \n",
    "    tIsland = [[0] * m for _ in range(n)]\n",
    "\n",
    "    for i in range(n):\n",
    "        for j in range(m):\n",
    "            if graph[i][j] == 'L':\n",
    "                tIsland[i][j] = 1\n",
    "            else:\n",
    "                tIsland[i][j] = 0\n",
    "                \n",
    "    return tIsland\n",
    "\n",
    "def getMaxDistance():\n",
    "    maxDistance = -1e9\n",
    "    \n",
    "    for i in range(n):\n",
    "        for j in range(m):\n",
    "            if maxDistance < tIsland[i][j]:\n",
    "                maxDistance = tIsland[i][j]\n",
    "                \n",
    "    return maxDistance\n",
    "            \n",
    "for i in range(n):\n",
    "    for j in range(m):\n",
    "        visited = [[False] * m for _ in range(n)]\n",
    "        \n",
    "        tIsland = makeTIsland()\n",
    "        \n",
    "        if graph[i][j] == 'L':\n",
    "            bfs(i, j)\n",
    "            \n",
    "        distance = getMaxDistance()\n",
    "        \n",
    "        if maxDistance < distance:\n",
    "            maxDistance = distance\n",
    "            \n",
    "if maxDistance == 0:\n",
    "    print(maxDistance)\n",
    "else:\n",
    "    print(maxDistance - 1)"
   ]
  }
 ],
 "metadata": {
  "kernelspec": {
   "display_name": "Python 3",
   "language": "python",
   "name": "python3"
  },
  "language_info": {
   "codemirror_mode": {
    "name": "ipython",
    "version": 3
   },
   "file_extension": ".py",
   "mimetype": "text/x-python",
   "name": "python",
   "nbconvert_exporter": "python",
   "pygments_lexer": "ipython3",
   "version": "3.8.5"
  }
 },
 "nbformat": 4,
 "nbformat_minor": 4
}
