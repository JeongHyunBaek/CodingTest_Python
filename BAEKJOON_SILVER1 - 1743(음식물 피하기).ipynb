{
 "cells": [
  {
   "cell_type": "code",
   "execution_count": 7,
   "metadata": {},
   "outputs": [
    {
     "name": "stdout",
     "output_type": "stream",
     "text": [
      "3 4 5\n",
      "3 2\n",
      "2 2\n",
      "3 1\n",
      "2 3\n",
      "1 1\n",
      "4\n"
     ]
    }
   ],
   "source": [
    "n, m, k = map(int, input().split())\n",
    "graph = [[0] * (m + 1) for _ in range(n + 1)]\n",
    "maxSize = -1e9\n",
    "\n",
    "for _ in range(k):\n",
    "    r, c = map(int, input().split())\n",
    "    \n",
    "    graph[r][c] = 1\n",
    "    \n",
    "def dfs(x, y):\n",
    "    global size\n",
    "    \n",
    "    if x <= 0 or x > n or y <= 0 or y > m:\n",
    "        return False\n",
    "    \n",
    "    if graph[x][y] == 1:\n",
    "        graph[x][y] = 0\n",
    "        size += 1\n",
    "        \n",
    "        dfs(x - 1, y)\n",
    "        dfs(x + 1, y)\n",
    "        dfs(x, y - 1)\n",
    "        dfs(x, y + 1)\n",
    "        \n",
    "        return True\n",
    "    \n",
    "    return False\n",
    "    \n",
    "for i in range(1, n + 1):\n",
    "    for j in range(1, m + 1):\n",
    "        size = 0\n",
    "        \n",
    "        dfs(i, j)\n",
    "        \n",
    "        maxSize = max(maxSize, size)\n",
    "        \n",
    "print(maxSize)"
   ]
  }
 ],
 "metadata": {
  "kernelspec": {
   "display_name": "Python 3",
   "language": "python",
   "name": "python3"
  },
  "language_info": {
   "codemirror_mode": {
    "name": "ipython",
    "version": 3
   },
   "file_extension": ".py",
   "mimetype": "text/x-python",
   "name": "python",
   "nbconvert_exporter": "python",
   "pygments_lexer": "ipython3",
   "version": "3.8.5"
  }
 },
 "nbformat": 4,
 "nbformat_minor": 4
}
