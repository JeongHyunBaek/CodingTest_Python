{
 "cells": [
  {
   "cell_type": "code",
   "execution_count": 46,
   "metadata": {},
   "outputs": [
    {
     "name": "stdout",
     "output_type": "stream",
     "text": [
      "5 5\n",
      "1 3\n",
      "1 4\n",
      "4 5\n",
      "4 3\n",
      "3 2\n",
      "3\n"
     ]
    }
   ],
   "source": [
    "from collections import deque\n",
    "\n",
    "n, m = map(int, input().split())\n",
    "graph = [[] for _ in range(n + 1)]\n",
    "result = [[] for _ in range(n)]\n",
    "\n",
    "for _ in range(m):\n",
    "    a, b = map(int, input().split())\n",
    "    \n",
    "    if b not in graph[a]:\n",
    "        graph[a].append(b)\n",
    "        graph[b].append(a)\n",
    "    \n",
    "def bfs(graph, start):\n",
    "    queue = deque([start])\n",
    "    \n",
    "    visited = [False] * (n + 1)\n",
    "    visited[start] = True\n",
    "    \n",
    "    bacon = [1] * (n + 1)\n",
    "    count = 0\n",
    "    \n",
    "    while queue:\n",
    "        v = queue.popleft()\n",
    "        \n",
    "        count = bacon[v]\n",
    "        \n",
    "        for i in graph[v]:\n",
    "            if not visited[i]:\n",
    "                queue.append(i)\n",
    "                visited[i] = True\n",
    "                bacon[i] += count\n",
    "                \n",
    "    return sum(bacon) - (n + 1)\n",
    "\n",
    "for i in range(1, n + 1):\n",
    "    result[i - 1] = bfs(graph, i)\n",
    "\n",
    "print(result.index(min(result)) + 1)"
   ]
  }
 ],
 "metadata": {
  "kernelspec": {
   "display_name": "Python 3",
   "language": "python",
   "name": "python3"
  },
  "language_info": {
   "codemirror_mode": {
    "name": "ipython",
    "version": 3
   },
   "file_extension": ".py",
   "mimetype": "text/x-python",
   "name": "python",
   "nbconvert_exporter": "python",
   "pygments_lexer": "ipython3",
   "version": "3.8.5"
  }
 },
 "nbformat": 4,
 "nbformat_minor": 4
}
